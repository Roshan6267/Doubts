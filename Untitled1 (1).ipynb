{
 "cells": [
  {
   "cell_type": "markdown",
   "id": "54baf30b",
   "metadata": {},
   "source": [
    "write a function which will try to find out len of a string without using an inbuilt len function\n",
    "\n",
    "write a function which will be able to print an index of list element without using an index function\n",
    "\n",
    "write a function which will be able to print an ip address of your system\n",
    "\n",
    "write a function which will shutdown your system\n",
    "\n",
    "write a function which will take input as a list with any kind of numeric value and give an out as a multiplication of all the numeric data l = [3.5, 6.56, 4,5,\"sudh\" , \"ineuron\" , 'fsda bootcamp 2.0']\n",
    "\n",
    "write a function which will be able to read all the mails\n",
    "\n",
    "write a function which will be able to send a mail to anyone\n",
    "\n",
    "write a function which will be able to read a doc/word file from your system\n",
    "\n",
    "you are suppose to complete this  by oct 30th before your live class and you have to send a solution at mail id - query@ineuron.ai submit your git link to mail\n"
   ]
  },
  {
   "cell_type": "code",
   "execution_count": 37,
   "id": "473f1259",
   "metadata": {},
   "outputs": [],
   "source": [
    "#write a function which will try to find out len of a string without using an inbuilt len function\n",
    "l1 = [12,34,56,\"roshan\",\"nu\"]"
   ]
  },
  {
   "cell_type": "code",
   "execution_count": 9,
   "id": "3e3370fb",
   "metadata": {},
   "outputs": [],
   "source": [
    "def test1(l1):\n",
    "    l1 = [12,34,56,\"roshan\",\"nu\"]\n",
    "    count = 0\n",
    "    for i in l1:\n",
    "        count += 1\n",
    "    return count"
   ]
  },
  {
   "cell_type": "code",
   "execution_count": 8,
   "id": "92b1f8bb",
   "metadata": {},
   "outputs": [
    {
     "data": {
      "text/plain": [
       "5"
      ]
     },
     "execution_count": 8,
     "metadata": {},
     "output_type": "execute_result"
    }
   ],
   "source": [
    "test1(l1)"
   ]
  },
  {
   "cell_type": "code",
   "execution_count": 38,
   "id": "4c77863b",
   "metadata": {},
   "outputs": [],
   "source": [
    "#write a function which will be able to print an index of list element without using an index function\n",
    "def test2(l1):\n",
    "    l1 = [12,34,56,\"roshan\",\"nu\"]\n",
    "    index = 0\n",
    "    for i in range(0,len(l1)):\n",
    "        print(l1[i], \":\", i)\n",
    "    "
   ]
  },
  {
   "cell_type": "code",
   "execution_count": 39,
   "id": "518d59a3",
   "metadata": {},
   "outputs": [
    {
     "name": "stdout",
     "output_type": "stream",
     "text": [
      "12 : 0\n",
      "34 : 1\n",
      "56 : 2\n",
      "roshan : 3\n",
      "nu : 4\n"
     ]
    }
   ],
   "source": [
    "test2(l1)"
   ]
  },
  {
   "cell_type": "code",
   "execution_count": 12,
   "id": "bc328ba4",
   "metadata": {},
   "outputs": [],
   "source": [
    "#write a function which will be able to print an ip address of your system\n",
    "import socket"
   ]
  },
  {
   "cell_type": "code",
   "execution_count": 15,
   "id": "927d55a7",
   "metadata": {},
   "outputs": [],
   "source": [
    "import socket\n",
    "def test4():\n",
    "    \"\"\"This is my ip address\"\"\"\n",
    "    ip = socket.gethostbyname(socket.gethostname())\n",
    "    return ip"
   ]
  },
  {
   "cell_type": "code",
   "execution_count": 16,
   "id": "a1f9021f",
   "metadata": {},
   "outputs": [
    {
     "data": {
      "text/plain": [
       "'127.0.0.1'"
      ]
     },
     "execution_count": 16,
     "metadata": {},
     "output_type": "execute_result"
    }
   ],
   "source": [
    "test4()"
   ]
  },
  {
   "cell_type": "code",
   "execution_count": 40,
   "id": "4641d455",
   "metadata": {},
   "outputs": [],
   "source": [
    "import socket\n",
    "def test4():\n",
    "    \"\"\"This is my ip address\"\"\"\n",
    "    ip_or_DNS_inf = socket.gethostbyaddr(socket.gethostname())\n",
    "    return ip_or_DNS_inf"
   ]
  },
  {
   "cell_type": "code",
   "execution_count": 41,
   "id": "83c57cdc",
   "metadata": {},
   "outputs": [
    {
     "data": {
      "text/plain": [
       "('LAPTOP-1UNFV8KB', [], ['::1'])"
      ]
     },
     "execution_count": 41,
     "metadata": {},
     "output_type": "execute_result"
    }
   ],
   "source": [
    "test4()"
   ]
  },
  {
   "cell_type": "code",
   "execution_count": null,
   "id": "44b660b3",
   "metadata": {},
   "outputs": [],
   "source": [
    "#write a function which will shutdown your system\n",
    "import os \n",
    "os.system(\"shutdown /s /t 4\")\n",
    "\n",
    "# /s - shutdown\n",
    "# /r - restart\n",
    "# /t 1 - timer"
   ]
  },
  {
   "cell_type": "code",
   "execution_count": 5,
   "id": "d6233817",
   "metadata": {},
   "outputs": [],
   "source": [
    "#write a function which will take input as a list with any kind of numeric value and give an out as a multiplication of\n",
    "#all the numeric data l = [3.5, 6.56, 4,5,\"sudh\" , \"ineuron\" , 'fsda bootcamp 2.0']\n",
    "l = [3.5, 6.56, 4,5,\"sudh\" , \"ineuron\" , 'fsda bootcamp 2.0']\n",
    "def  test3(l):\n",
    "    mul = 1\n",
    "    for i in l:\n",
    "        if type(i) == int or type(i) == float:\n",
    "            mul *= i\n",
    "    return mul\n",
    "\n",
    "\n"
   ]
  },
  {
   "cell_type": "code",
   "execution_count": 6,
   "id": "a0abc08c",
   "metadata": {},
   "outputs": [
    {
     "data": {
      "text/plain": [
       "459.19999999999993"
      ]
     },
     "execution_count": 6,
     "metadata": {},
     "output_type": "execute_result"
    }
   ],
   "source": [
    "test3(l)"
   ]
  },
  {
   "cell_type": "code",
   "execution_count": 4,
   "id": "092c3c42",
   "metadata": {},
   "outputs": [
    {
     "name": "stdout",
     "output_type": "stream",
     "text": [
      "[Errno 11001] getaddrinfo failed\n"
     ]
    },
    {
     "name": "stderr",
     "output_type": "stream",
     "text": [
      "Traceback (most recent call last):\n",
      "  File \"C:\\Users\\urosh\\AppData\\Local\\Temp\\ipykernel_15136\\2900656542.py\", line 16, in read_email_from_gmail\n",
      "    mail = imaplib.IMAP4_SSL(SMTP_SERVER)\n",
      "  File \"C:\\Users\\urosh\\anaconda3\\lib\\imaplib.py\", line 1324, in __init__\n",
      "    IMAP4.__init__(self, host, port, timeout)\n",
      "  File \"C:\\Users\\urosh\\anaconda3\\lib\\imaplib.py\", line 202, in __init__\n",
      "    self.open(host, port, timeout)\n",
      "  File \"C:\\Users\\urosh\\anaconda3\\lib\\imaplib.py\", line 1337, in open\n",
      "    IMAP4.open(self, host, port, timeout)\n",
      "  File \"C:\\Users\\urosh\\anaconda3\\lib\\imaplib.py\", line 312, in open\n",
      "    self.sock = self._create_socket(timeout)\n",
      "  File \"C:\\Users\\urosh\\anaconda3\\lib\\imaplib.py\", line 1327, in _create_socket\n",
      "    sock = IMAP4._create_socket(self, timeout)\n",
      "  File \"C:\\Users\\urosh\\anaconda3\\lib\\imaplib.py\", line 302, in _create_socket\n",
      "    return socket.create_connection(address)\n",
      "  File \"C:\\Users\\urosh\\anaconda3\\lib\\socket.py\", line 823, in create_connection\n",
      "    for res in getaddrinfo(host, port, 0, SOCK_STREAM):\n",
      "  File \"C:\\Users\\urosh\\anaconda3\\lib\\socket.py\", line 954, in getaddrinfo\n",
      "    for res in _socket.getaddrinfo(host, port, family, type, proto, flags):\n",
      "socket.gaierror: [Errno 11001] getaddrinfo failed\n"
     ]
    }
   ],
   "source": [
    "#write a function which will be able to read all the mails\n",
    "import smtplib\n",
    "import time\n",
    "import imaplib\n",
    "import email\n",
    "import traceback \n",
    "ORG_EMAIL = \"@gmail.com\" \n",
    "FROM_EMAIL = 'uroshan2020@gmail.com'\n",
    "FROM_PWD = 'tivihwoyinjvgyna'\n",
    "SMTP_SERVER = \"imap.gmail.com\" \n",
    "SMTP_PORT = 993\n",
    "imaplib._MAXLINE = 400000000\n",
    "\n",
    "def read_email_from_gmail():\n",
    "    try:\n",
    "        mail = imaplib.IMAP4_SSL(SMTP_SERVER)\n",
    "        mail.login(FROM_EMAIL,FROM_PWD)\n",
    "        mail.select('inbox')\n",
    "\n",
    "        data = mail.search(None, 'ALL')\n",
    "        mail_ids = data[1]\n",
    "        id_list = mail_ids[0].split()   \n",
    "        first_email_id = int(id_list[0])\n",
    "        latest_email_id = int(id_list[-1])\n",
    "\n",
    "        for i in range(latest_email_id,first_email_id, -1):\n",
    "            data = mail.fetch(str(i), '(RFC822)' )\n",
    "            for response_part in data:\n",
    "                arr = response_part[0]\n",
    "                if isinstance(arr, tuple):\n",
    "                    msg = email.message_from_string(str(arr[1],'utf-8'))\n",
    "                    email_subject = msg['subject']\n",
    "                    email_from = msg['from']\n",
    "                    print('From : ' + email_from + '\\n')\n",
    "                    print('Subject : ' + email_subject + '\\n')\n",
    "\n",
    "    except Exception as e:\n",
    "        traceback.print_exc() \n",
    "        print(str(e))\n",
    "\n",
    "read_email_from_gmail()"
   ]
  },
  {
   "cell_type": "code",
   "execution_count": 3,
   "id": "4dd3cacd",
   "metadata": {},
   "outputs": [
    {
     "ename": "gaierror",
     "evalue": "[Errno 11001] getaddrinfo failed",
     "output_type": "error",
     "traceback": [
      "\u001b[1;31m---------------------------------------------------------------------------\u001b[0m",
      "\u001b[1;31mgaierror\u001b[0m                                  Traceback (most recent call last)",
      "\u001b[1;32m~\\AppData\\Local\\Temp\\ipykernel_15136\\3496315537.py\u001b[0m in \u001b[0;36m<module>\u001b[1;34m\u001b[0m\n\u001b[0;32m      9\u001b[0m \u001b[1;33m\u001b[0m\u001b[0m\n\u001b[0;32m     10\u001b[0m \u001b[0mcontext\u001b[0m \u001b[1;33m=\u001b[0m \u001b[0mssl\u001b[0m\u001b[1;33m.\u001b[0m\u001b[0mcreate_default_context\u001b[0m\u001b[1;33m(\u001b[0m\u001b[1;33m)\u001b[0m\u001b[1;33m\u001b[0m\u001b[1;33m\u001b[0m\u001b[0m\n\u001b[1;32m---> 11\u001b[1;33m \u001b[1;32mwith\u001b[0m \u001b[0msmtplib\u001b[0m\u001b[1;33m.\u001b[0m\u001b[0mSMTP_SSL\u001b[0m\u001b[1;33m(\u001b[0m\u001b[0msmtp_server\u001b[0m\u001b[1;33m,\u001b[0m \u001b[0mport\u001b[0m\u001b[1;33m,\u001b[0m \u001b[0mcontext\u001b[0m\u001b[1;33m=\u001b[0m\u001b[0mcontext\u001b[0m\u001b[1;33m)\u001b[0m \u001b[1;32mas\u001b[0m \u001b[0mserver\u001b[0m\u001b[1;33m:\u001b[0m\u001b[1;33m\u001b[0m\u001b[1;33m\u001b[0m\u001b[0m\n\u001b[0m\u001b[0;32m     12\u001b[0m     \u001b[0mserver\u001b[0m\u001b[1;33m.\u001b[0m\u001b[0mlogin\u001b[0m\u001b[1;33m(\u001b[0m\u001b[0msender_email\u001b[0m\u001b[1;33m,\u001b[0m \u001b[0mpassword\u001b[0m\u001b[1;33m)\u001b[0m\u001b[1;33m\u001b[0m\u001b[1;33m\u001b[0m\u001b[0m\n\u001b[0;32m     13\u001b[0m     \u001b[0mserver\u001b[0m\u001b[1;33m.\u001b[0m\u001b[0msendmail\u001b[0m\u001b[1;33m(\u001b[0m\u001b[0msender_email\u001b[0m\u001b[1;33m,\u001b[0m \u001b[0mreceiver_email\u001b[0m\u001b[1;33m,\u001b[0m \u001b[0mmessage\u001b[0m\u001b[1;33m)\u001b[0m\u001b[1;33m\u001b[0m\u001b[1;33m\u001b[0m\u001b[0m\n",
      "\u001b[1;32m~\\anaconda3\\lib\\smtplib.py\u001b[0m in \u001b[0;36m__init__\u001b[1;34m(self, host, port, local_hostname, keyfile, certfile, timeout, source_address, context)\u001b[0m\n\u001b[0;32m   1048\u001b[0m                                                      keyfile=keyfile)\n\u001b[0;32m   1049\u001b[0m             \u001b[0mself\u001b[0m\u001b[1;33m.\u001b[0m\u001b[0mcontext\u001b[0m \u001b[1;33m=\u001b[0m \u001b[0mcontext\u001b[0m\u001b[1;33m\u001b[0m\u001b[1;33m\u001b[0m\u001b[0m\n\u001b[1;32m-> 1050\u001b[1;33m             SMTP.__init__(self, host, port, local_hostname, timeout,\n\u001b[0m\u001b[0;32m   1051\u001b[0m                           source_address)\n\u001b[0;32m   1052\u001b[0m \u001b[1;33m\u001b[0m\u001b[0m\n",
      "\u001b[1;32m~\\anaconda3\\lib\\smtplib.py\u001b[0m in \u001b[0;36m__init__\u001b[1;34m(self, host, port, local_hostname, timeout, source_address)\u001b[0m\n\u001b[0;32m    253\u001b[0m \u001b[1;33m\u001b[0m\u001b[0m\n\u001b[0;32m    254\u001b[0m         \u001b[1;32mif\u001b[0m \u001b[0mhost\u001b[0m\u001b[1;33m:\u001b[0m\u001b[1;33m\u001b[0m\u001b[1;33m\u001b[0m\u001b[0m\n\u001b[1;32m--> 255\u001b[1;33m             \u001b[1;33m(\u001b[0m\u001b[0mcode\u001b[0m\u001b[1;33m,\u001b[0m \u001b[0mmsg\u001b[0m\u001b[1;33m)\u001b[0m \u001b[1;33m=\u001b[0m \u001b[0mself\u001b[0m\u001b[1;33m.\u001b[0m\u001b[0mconnect\u001b[0m\u001b[1;33m(\u001b[0m\u001b[0mhost\u001b[0m\u001b[1;33m,\u001b[0m \u001b[0mport\u001b[0m\u001b[1;33m)\u001b[0m\u001b[1;33m\u001b[0m\u001b[1;33m\u001b[0m\u001b[0m\n\u001b[0m\u001b[0;32m    256\u001b[0m             \u001b[1;32mif\u001b[0m \u001b[0mcode\u001b[0m \u001b[1;33m!=\u001b[0m \u001b[1;36m220\u001b[0m\u001b[1;33m:\u001b[0m\u001b[1;33m\u001b[0m\u001b[1;33m\u001b[0m\u001b[0m\n\u001b[0;32m    257\u001b[0m                 \u001b[0mself\u001b[0m\u001b[1;33m.\u001b[0m\u001b[0mclose\u001b[0m\u001b[1;33m(\u001b[0m\u001b[1;33m)\u001b[0m\u001b[1;33m\u001b[0m\u001b[1;33m\u001b[0m\u001b[0m\n",
      "\u001b[1;32m~\\anaconda3\\lib\\smtplib.py\u001b[0m in \u001b[0;36mconnect\u001b[1;34m(self, host, port, source_address)\u001b[0m\n\u001b[0;32m    339\u001b[0m             \u001b[0mport\u001b[0m \u001b[1;33m=\u001b[0m \u001b[0mself\u001b[0m\u001b[1;33m.\u001b[0m\u001b[0mdefault_port\u001b[0m\u001b[1;33m\u001b[0m\u001b[1;33m\u001b[0m\u001b[0m\n\u001b[0;32m    340\u001b[0m         \u001b[0msys\u001b[0m\u001b[1;33m.\u001b[0m\u001b[0maudit\u001b[0m\u001b[1;33m(\u001b[0m\u001b[1;34m\"smtplib.connect\"\u001b[0m\u001b[1;33m,\u001b[0m \u001b[0mself\u001b[0m\u001b[1;33m,\u001b[0m \u001b[0mhost\u001b[0m\u001b[1;33m,\u001b[0m \u001b[0mport\u001b[0m\u001b[1;33m)\u001b[0m\u001b[1;33m\u001b[0m\u001b[1;33m\u001b[0m\u001b[0m\n\u001b[1;32m--> 341\u001b[1;33m         \u001b[0mself\u001b[0m\u001b[1;33m.\u001b[0m\u001b[0msock\u001b[0m \u001b[1;33m=\u001b[0m \u001b[0mself\u001b[0m\u001b[1;33m.\u001b[0m\u001b[0m_get_socket\u001b[0m\u001b[1;33m(\u001b[0m\u001b[0mhost\u001b[0m\u001b[1;33m,\u001b[0m \u001b[0mport\u001b[0m\u001b[1;33m,\u001b[0m \u001b[0mself\u001b[0m\u001b[1;33m.\u001b[0m\u001b[0mtimeout\u001b[0m\u001b[1;33m)\u001b[0m\u001b[1;33m\u001b[0m\u001b[1;33m\u001b[0m\u001b[0m\n\u001b[0m\u001b[0;32m    342\u001b[0m         \u001b[0mself\u001b[0m\u001b[1;33m.\u001b[0m\u001b[0mfile\u001b[0m \u001b[1;33m=\u001b[0m \u001b[1;32mNone\u001b[0m\u001b[1;33m\u001b[0m\u001b[1;33m\u001b[0m\u001b[0m\n\u001b[0;32m    343\u001b[0m         \u001b[1;33m(\u001b[0m\u001b[0mcode\u001b[0m\u001b[1;33m,\u001b[0m \u001b[0mmsg\u001b[0m\u001b[1;33m)\u001b[0m \u001b[1;33m=\u001b[0m \u001b[0mself\u001b[0m\u001b[1;33m.\u001b[0m\u001b[0mgetreply\u001b[0m\u001b[1;33m(\u001b[0m\u001b[1;33m)\u001b[0m\u001b[1;33m\u001b[0m\u001b[1;33m\u001b[0m\u001b[0m\n",
      "\u001b[1;32m~\\anaconda3\\lib\\smtplib.py\u001b[0m in \u001b[0;36m_get_socket\u001b[1;34m(self, host, port, timeout)\u001b[0m\n\u001b[0;32m   1054\u001b[0m             \u001b[1;32mif\u001b[0m \u001b[0mself\u001b[0m\u001b[1;33m.\u001b[0m\u001b[0mdebuglevel\u001b[0m \u001b[1;33m>\u001b[0m \u001b[1;36m0\u001b[0m\u001b[1;33m:\u001b[0m\u001b[1;33m\u001b[0m\u001b[1;33m\u001b[0m\u001b[0m\n\u001b[0;32m   1055\u001b[0m                 \u001b[0mself\u001b[0m\u001b[1;33m.\u001b[0m\u001b[0m_print_debug\u001b[0m\u001b[1;33m(\u001b[0m\u001b[1;34m'connect:'\u001b[0m\u001b[1;33m,\u001b[0m \u001b[1;33m(\u001b[0m\u001b[0mhost\u001b[0m\u001b[1;33m,\u001b[0m \u001b[0mport\u001b[0m\u001b[1;33m)\u001b[0m\u001b[1;33m)\u001b[0m\u001b[1;33m\u001b[0m\u001b[1;33m\u001b[0m\u001b[0m\n\u001b[1;32m-> 1056\u001b[1;33m             \u001b[0mnew_socket\u001b[0m \u001b[1;33m=\u001b[0m \u001b[0msuper\u001b[0m\u001b[1;33m(\u001b[0m\u001b[1;33m)\u001b[0m\u001b[1;33m.\u001b[0m\u001b[0m_get_socket\u001b[0m\u001b[1;33m(\u001b[0m\u001b[0mhost\u001b[0m\u001b[1;33m,\u001b[0m \u001b[0mport\u001b[0m\u001b[1;33m,\u001b[0m \u001b[0mtimeout\u001b[0m\u001b[1;33m)\u001b[0m\u001b[1;33m\u001b[0m\u001b[1;33m\u001b[0m\u001b[0m\n\u001b[0m\u001b[0;32m   1057\u001b[0m             new_socket = self.context.wrap_socket(new_socket,\n\u001b[0;32m   1058\u001b[0m                                                   server_hostname=self._host)\n",
      "\u001b[1;32m~\\anaconda3\\lib\\smtplib.py\u001b[0m in \u001b[0;36m_get_socket\u001b[1;34m(self, host, port, timeout)\u001b[0m\n\u001b[0;32m    310\u001b[0m         \u001b[1;32mif\u001b[0m \u001b[0mself\u001b[0m\u001b[1;33m.\u001b[0m\u001b[0mdebuglevel\u001b[0m \u001b[1;33m>\u001b[0m \u001b[1;36m0\u001b[0m\u001b[1;33m:\u001b[0m\u001b[1;33m\u001b[0m\u001b[1;33m\u001b[0m\u001b[0m\n\u001b[0;32m    311\u001b[0m             \u001b[0mself\u001b[0m\u001b[1;33m.\u001b[0m\u001b[0m_print_debug\u001b[0m\u001b[1;33m(\u001b[0m\u001b[1;34m'connect: to'\u001b[0m\u001b[1;33m,\u001b[0m \u001b[1;33m(\u001b[0m\u001b[0mhost\u001b[0m\u001b[1;33m,\u001b[0m \u001b[0mport\u001b[0m\u001b[1;33m)\u001b[0m\u001b[1;33m,\u001b[0m \u001b[0mself\u001b[0m\u001b[1;33m.\u001b[0m\u001b[0msource_address\u001b[0m\u001b[1;33m)\u001b[0m\u001b[1;33m\u001b[0m\u001b[1;33m\u001b[0m\u001b[0m\n\u001b[1;32m--> 312\u001b[1;33m         return socket.create_connection((host, port), timeout,\n\u001b[0m\u001b[0;32m    313\u001b[0m                                         self.source_address)\n\u001b[0;32m    314\u001b[0m \u001b[1;33m\u001b[0m\u001b[0m\n",
      "\u001b[1;32m~\\anaconda3\\lib\\socket.py\u001b[0m in \u001b[0;36mcreate_connection\u001b[1;34m(address, timeout, source_address)\u001b[0m\n\u001b[0;32m    821\u001b[0m     \u001b[0mhost\u001b[0m\u001b[1;33m,\u001b[0m \u001b[0mport\u001b[0m \u001b[1;33m=\u001b[0m \u001b[0maddress\u001b[0m\u001b[1;33m\u001b[0m\u001b[1;33m\u001b[0m\u001b[0m\n\u001b[0;32m    822\u001b[0m     \u001b[0merr\u001b[0m \u001b[1;33m=\u001b[0m \u001b[1;32mNone\u001b[0m\u001b[1;33m\u001b[0m\u001b[1;33m\u001b[0m\u001b[0m\n\u001b[1;32m--> 823\u001b[1;33m     \u001b[1;32mfor\u001b[0m \u001b[0mres\u001b[0m \u001b[1;32min\u001b[0m \u001b[0mgetaddrinfo\u001b[0m\u001b[1;33m(\u001b[0m\u001b[0mhost\u001b[0m\u001b[1;33m,\u001b[0m \u001b[0mport\u001b[0m\u001b[1;33m,\u001b[0m \u001b[1;36m0\u001b[0m\u001b[1;33m,\u001b[0m \u001b[0mSOCK_STREAM\u001b[0m\u001b[1;33m)\u001b[0m\u001b[1;33m:\u001b[0m\u001b[1;33m\u001b[0m\u001b[1;33m\u001b[0m\u001b[0m\n\u001b[0m\u001b[0;32m    824\u001b[0m         \u001b[0maf\u001b[0m\u001b[1;33m,\u001b[0m \u001b[0msocktype\u001b[0m\u001b[1;33m,\u001b[0m \u001b[0mproto\u001b[0m\u001b[1;33m,\u001b[0m \u001b[0mcanonname\u001b[0m\u001b[1;33m,\u001b[0m \u001b[0msa\u001b[0m \u001b[1;33m=\u001b[0m \u001b[0mres\u001b[0m\u001b[1;33m\u001b[0m\u001b[1;33m\u001b[0m\u001b[0m\n\u001b[0;32m    825\u001b[0m         \u001b[0msock\u001b[0m \u001b[1;33m=\u001b[0m \u001b[1;32mNone\u001b[0m\u001b[1;33m\u001b[0m\u001b[1;33m\u001b[0m\u001b[0m\n",
      "\u001b[1;32m~\\anaconda3\\lib\\socket.py\u001b[0m in \u001b[0;36mgetaddrinfo\u001b[1;34m(host, port, family, type, proto, flags)\u001b[0m\n\u001b[0;32m    952\u001b[0m     \u001b[1;31m# and socket type values to enum constants.\u001b[0m\u001b[1;33m\u001b[0m\u001b[1;33m\u001b[0m\u001b[0m\n\u001b[0;32m    953\u001b[0m     \u001b[0maddrlist\u001b[0m \u001b[1;33m=\u001b[0m \u001b[1;33m[\u001b[0m\u001b[1;33m]\u001b[0m\u001b[1;33m\u001b[0m\u001b[1;33m\u001b[0m\u001b[0m\n\u001b[1;32m--> 954\u001b[1;33m     \u001b[1;32mfor\u001b[0m \u001b[0mres\u001b[0m \u001b[1;32min\u001b[0m \u001b[0m_socket\u001b[0m\u001b[1;33m.\u001b[0m\u001b[0mgetaddrinfo\u001b[0m\u001b[1;33m(\u001b[0m\u001b[0mhost\u001b[0m\u001b[1;33m,\u001b[0m \u001b[0mport\u001b[0m\u001b[1;33m,\u001b[0m \u001b[0mfamily\u001b[0m\u001b[1;33m,\u001b[0m \u001b[0mtype\u001b[0m\u001b[1;33m,\u001b[0m \u001b[0mproto\u001b[0m\u001b[1;33m,\u001b[0m \u001b[0mflags\u001b[0m\u001b[1;33m)\u001b[0m\u001b[1;33m:\u001b[0m\u001b[1;33m\u001b[0m\u001b[1;33m\u001b[0m\u001b[0m\n\u001b[0m\u001b[0;32m    955\u001b[0m         \u001b[0maf\u001b[0m\u001b[1;33m,\u001b[0m \u001b[0msocktype\u001b[0m\u001b[1;33m,\u001b[0m \u001b[0mproto\u001b[0m\u001b[1;33m,\u001b[0m \u001b[0mcanonname\u001b[0m\u001b[1;33m,\u001b[0m \u001b[0msa\u001b[0m \u001b[1;33m=\u001b[0m \u001b[0mres\u001b[0m\u001b[1;33m\u001b[0m\u001b[1;33m\u001b[0m\u001b[0m\n\u001b[0;32m    956\u001b[0m         addrlist.append((_intenum_converter(af, AddressFamily),\n",
      "\u001b[1;31mgaierror\u001b[0m: [Errno 11001] getaddrinfo failed"
     ]
    }
   ],
   "source": [
    "#write a function which will be able to send a mail to anyone\n",
    "import smtplib , ssl\n",
    "port = 465  # For SSL\n",
    "smtp_server = \"smtp.gmail.com\"\n",
    "sender_email = \"uroshan2020@gmail.com\"  # Enter your address\n",
    "receiver_email = \"sonuvermavinay4837@gmail.com\"  # Enter receiver address\n",
    "password = 'tivihwoyinjvgyna'\n",
    "message = \"\"\"this is my message from python code in my live class\"\"\"\n",
    "\n",
    "context = ssl.create_default_context()\n",
    "with smtplib.SMTP_SSL(smtp_server, port, context=context) as server:\n",
    "    server.login(sender_email, password)\n",
    "    server.sendmail(sender_email, receiver_email, message)"
   ]
  },
  {
   "cell_type": "code",
   "execution_count": 16,
   "id": "fbc57296",
   "metadata": {},
   "outputs": [],
   "source": [
    "#write a function which will be able to read a doc/word file from your system\n",
    "import docx2txt"
   ]
  },
  {
   "cell_type": "code",
   "execution_count": 15,
   "id": "8c731945",
   "metadata": {},
   "outputs": [
    {
     "name": "stdout",
     "output_type": "stream",
     "text": [
      "Collecting docx2txt\n",
      "  Downloading docx2txt-0.8.tar.gz (2.8 kB)\n",
      "  Preparing metadata (setup.py): started\n",
      "  Preparing metadata (setup.py): finished with status 'done'\n",
      "Building wheels for collected packages: docx2txt\n",
      "  Building wheel for docx2txt (setup.py): started\n",
      "  Building wheel for docx2txt (setup.py): finished with status 'done'\n",
      "  Created wheel for docx2txt: filename=docx2txt-0.8-py3-none-any.whl size=3966 sha256=7fb4ff616099a6fc32cb613383faf9b17efc97e8a9945524b2133473a57a23dd\n",
      "  Stored in directory: c:\\users\\urosh\\appdata\\local\\pip\\cache\\wheels\\40\\75\\01\\e6c444034338bde9c7947d3467807f889123465c2371e77418\n",
      "Successfully built docx2txt\n",
      "Installing collected packages: docx2txt\n",
      "Successfully installed docx2txt-0.8\n",
      "Note: you may need to restart the kernel to use updated packages.\n"
     ]
    }
   ],
   "source": [
    "pip install docx2txt"
   ]
  },
  {
   "cell_type": "code",
   "execution_count": 17,
   "id": "1e70ebae",
   "metadata": {},
   "outputs": [
    {
     "data": {
      "text/plain": [
       "'import smtplib , ssl\\n\\nport = 465  # For SSL\\n\\nsmtp_server = \"smtp.gmail.com\"\\n\\nsender_email = \"uroshan2020@gmail.com\"  # Enter your address\\n\\nreceiver_email = \"sonuvermavinay4837@gmail.com\"  # Enter receiver address\\n\\npassword = \\'tivihwoyinjvgyna\\'\\n\\nmessage = \"\"\"this is my message from python code in my live class\"\"\"\\n\\n\\n\\ncontext = ssl.create_default_context()\\n\\nwith smtplib.SMTP_SSL(smtp_server, port, context=context) as server:\\n\\n    server.login(sender_email, password)\\n\\n    server.sendmail(sender_email, receiver_email, message)\\n\\n\\n\\n\\n\\nimport smtplib\\n\\nimport time\\n\\nimport imaplib\\n\\nimport email\\n\\nimport traceback \\n\\nORG_EMAIL = \"@gmail.com\" \\n\\nFROM_EMAIL = \\'uroshan2020@gmail.com\\'\\n\\nFROM_PWD = \\'tivihwoyinjvgyna\\'\\n\\nSMTP_SERVER = \"imap.gmail.com\" \\n\\nSMTP_PORT = 993\\n\\nimaplib._MAXLINE = 400000000\\n\\n\\n\\ndef read_email_from_gmail():\\n\\n    try:\\n\\n        mail = imaplib.IMAP4_SSL(SMTP_SERVER)\\n\\n        mail.login(FROM_EMAIL,FROM_PWD)\\n\\n        mail.select(\\'inbox\\')\\n\\n\\n\\n        data = mail.search(None, \\'ALL\\')\\n\\n        mail_ids = data[1]\\n\\n        id_list = mail_ids[0].split()   \\n\\n        first_email_id = int(id_list[0])\\n\\n        latest_email_id = int(id_list[-1])\\n\\n\\n\\n        for i in range(latest_email_id,first_email_id, -1):\\n\\n            data = mail.fetch(str(i), \\'(RFC822)\\' )\\n\\n            for response_part in data:\\n\\n                arr = response_part[0]\\n\\n                if isinstance(arr, tuple):\\n\\n                    msg = email.message_from_string(str(arr[1],\\'utf-8\\'))\\n\\n                    email_subject = msg[\\'subject\\']\\n\\n                    email_from = msg[\\'from\\']\\n\\n                    print(\\'From : \\' + email_from + \\'\\\\n\\')\\n\\n                    print(\\'Subject : \\' + email_subject + \\'\\\\n\\')\\n\\n\\n\\n    except Exception as e:\\n\\n        traceback.print_exc() \\n\\n        print(str(e))\\n\\n\\n\\nread_email_from_gmail()'"
      ]
     },
     "execution_count": 17,
     "metadata": {},
     "output_type": "execute_result"
    }
   ],
   "source": [
    "docx2txt.process('testword.docx')"
   ]
  },
  {
   "cell_type": "code",
   "execution_count": 18,
   "id": "75cbe5d6",
   "metadata": {},
   "outputs": [
    {
     "name": "stdout",
     "output_type": "stream",
     "text": [
      "import smtplib , ssl\n",
      "\n",
      "port = 465  # For SSL\n",
      "\n",
      "smtp_server = \"smtp.gmail.com\"\n",
      "\n",
      "sender_email = \"uroshan2020@gmail.com\"  # Enter your address\n",
      "\n",
      "receiver_email = \"sonuvermavinay4837@gmail.com\"  # Enter receiver address\n",
      "\n",
      "password = 'tivihwoyinjvgyna'\n",
      "\n",
      "message = \"\"\"this is my message from python code in my live class\"\"\"\n",
      "\n",
      "\n",
      "\n",
      "context = ssl.create_default_context()\n",
      "\n",
      "with smtplib.SMTP_SSL(smtp_server, port, context=context) as server:\n",
      "\n",
      "    server.login(sender_email, password)\n",
      "\n",
      "    server.sendmail(sender_email, receiver_email, message)\n",
      "\n",
      "\n",
      "\n",
      "\n",
      "\n",
      "import smtplib\n",
      "\n",
      "import time\n",
      "\n",
      "import imaplib\n",
      "\n",
      "import email\n",
      "\n",
      "import traceback \n",
      "\n",
      "ORG_EMAIL = \"@gmail.com\" \n",
      "\n",
      "FROM_EMAIL = 'uroshan2020@gmail.com'\n",
      "\n",
      "FROM_PWD = 'tivihwoyinjvgyna'\n",
      "\n",
      "SMTP_SERVER = \"imap.gmail.com\" \n",
      "\n",
      "SMTP_PORT = 993\n",
      "\n",
      "imaplib._MAXLINE = 400000000\n",
      "\n",
      "\n",
      "\n",
      "def read_email_from_gmail():\n",
      "\n",
      "    try:\n",
      "\n",
      "        mail = imaplib.IMAP4_SSL(SMTP_SERVER)\n",
      "\n",
      "        mail.login(FROM_EMAIL,FROM_PWD)\n",
      "\n",
      "        mail.select('inbox')\n",
      "\n",
      "\n",
      "\n",
      "        data = mail.search(None, 'ALL')\n",
      "\n",
      "        mail_ids = data[1]\n",
      "\n",
      "        id_list = mail_ids[0].split()   \n",
      "\n",
      "        first_email_id = int(id_list[0])\n",
      "\n",
      "        latest_email_id = int(id_list[-1])\n",
      "\n",
      "\n",
      "\n",
      "        for i in range(latest_email_id,first_email_id, -1):\n",
      "\n",
      "            data = mail.fetch(str(i), '(RFC822)' )\n",
      "\n",
      "            for response_part in data:\n",
      "\n",
      "                arr = response_part[0]\n",
      "\n",
      "                if isinstance(arr, tuple):\n",
      "\n",
      "                    msg = email.message_from_string(str(arr[1],'utf-8'))\n",
      "\n",
      "                    email_subject = msg['subject']\n",
      "\n",
      "                    email_from = msg['from']\n",
      "\n",
      "                    print('From : ' + email_from + '\\n')\n",
      "\n",
      "                    print('Subject : ' + email_subject + '\\n')\n",
      "\n",
      "\n",
      "\n",
      "    except Exception as e:\n",
      "\n",
      "        traceback.print_exc() \n",
      "\n",
      "        print(str(e))\n",
      "\n",
      "\n",
      "\n",
      "read_email_from_gmail()\n"
     ]
    }
   ],
   "source": [
    "a = docx2txt.process('testword.docx')\n",
    "print(a)"
   ]
  },
  {
   "cell_type": "code",
   "execution_count": 19,
   "id": "4bec3a40",
   "metadata": {},
   "outputs": [
    {
     "name": "stdout",
     "output_type": "stream",
     "text": [
      " Volume in drive C is OS\n",
      " Volume Serial Number is E88E-44A0\n",
      "\n",
      " Directory of C:\\Users\\urosh\n",
      "\n",
      "02/22/2023  12:29 PM    <DIR>          .\n",
      "02/03/2023  10:02 PM    <DIR>          ..\n",
      "01/27/2023  10:24 PM    <DIR>          .conda\n",
      "01/20/2023  12:58 PM                25 .condarc\n",
      "01/20/2023  12:57 PM    <DIR>          .continuum\n",
      "01/26/2023  01:52 PM                53 .git-for-windows-updater\n",
      "02/21/2023  10:38 AM    <DIR>          .ipynb_checkpoints\n",
      "01/20/2023  12:59 PM    <DIR>          .ipython\n",
      "02/19/2023  06:45 PM    <DIR>          .jupyter\n",
      "01/20/2023  05:58 PM    <DIR>          .ms-ad\n",
      "01/22/2023  01:03 PM    <DIR>          .spyder-py3\n",
      "01/22/2023  01:18 PM    <DIR>          .vscode\n",
      "02/15/2023  05:51 PM           317,932 6.3 python list.ipynb\n",
      "01/20/2023  12:39 PM    <DIR>          anaconda3\n",
      "01/30/2023  01:34 AM            21,562 Assignment 1.ipynb\n",
      "02/01/2023  11:47 AM            13,691 Assignment 2.ipynb\n",
      "02/01/2023  07:19 PM             6,956 Assignment 3.ipynb\n",
      "02/07/2023  11:54 AM             4,185 Assignment 4.ipynb\n",
      "02/03/2023  10:07 PM    <DIR>          Contacts\n",
      "02/08/2023  12:45 PM            41,248 Control flow statements.ipynb\n",
      "01/18/2023  08:05 AM    <DIR>          Documents\n",
      "02/22/2023  11:20 AM    <DIR>          Downloads\n",
      "02/03/2023  10:07 PM    <DIR>          Favorites\n",
      "02/18/2023  04:40 PM            10,223 HISTORICAL CODE.ipynb\n",
      "02/03/2023  10:07 PM    <DIR>          Links\n",
      "02/03/2023  10:07 PM    <DIR>          Music\n",
      "02/22/2023  11:19 AM    <DIR>          OneDrive\n",
      "01/23/2023  07:49 PM            36,055 print code.ipynb\n",
      "01/30/2023  02:56 AM           135,170 python variable .ipynb\n",
      "02/03/2023  10:07 PM    <DIR>          Saved Games\n",
      "02/03/2023  10:07 PM    <DIR>          Searches\n",
      "02/22/2023  12:24 PM            13,711 testword.docx\n",
      "02/20/2023  07:30 PM            34,055 Untitled.ipynb\n",
      "02/22/2023  12:29 PM            15,194 Untitled1.ipynb\n",
      "02/03/2023  10:07 PM    <DIR>          Videos\n",
      "              14 File(s)        650,060 bytes\n",
      "              21 Dir(s)  82,665,189,376 bytes free\n"
     ]
    }
   ],
   "source": [
    "ls"
   ]
  },
  {
   "cell_type": "code",
   "execution_count": null,
   "id": "5b62d0fe",
   "metadata": {},
   "outputs": [],
   "source": []
  }
 ],
 "metadata": {
  "kernelspec": {
   "display_name": "Python 3 (ipykernel)",
   "language": "python",
   "name": "python3"
  },
  "language_info": {
   "codemirror_mode": {
    "name": "ipython",
    "version": 3
   },
   "file_extension": ".py",
   "mimetype": "text/x-python",
   "name": "python",
   "nbconvert_exporter": "python",
   "pygments_lexer": "ipython3",
   "version": "3.9.13"
  }
 },
 "nbformat": 4,
 "nbformat_minor": 5
}
